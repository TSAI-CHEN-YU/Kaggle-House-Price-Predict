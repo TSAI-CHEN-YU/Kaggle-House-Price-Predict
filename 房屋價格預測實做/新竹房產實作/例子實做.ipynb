{
 "cells": [
  {
   "cell_type": "markdown",
   "metadata": {},
   "source": [
    "注重流程!!!"
   ]
  },
  {
   "cell_type": "markdown",
   "metadata": {},
   "source": [
    "https://medium.com/@permoonzz/kaggle-house-prices-advanced-regression-techniques-python-ensemble-learning%E5%AF%A6%E5%81%9A-99f757f4d326"
   ]
  },
  {
   "cell_type": "code",
   "execution_count": null,
   "metadata": {},
   "outputs": [],
   "source": [
    "一、資料理解\n",
    "1.了解標籤變量：可以通過目標變量大致分析出解決問題是需要分類算法還是回歸算法。\n",
    "2.紀錄欄位特性(表格)：觀察每個特徵的特點，是數值型的、還是字符型的；是離散的、還是連續的；粗略聯想一下各個特徵與目標變量間的聯繫。\n",
    "\n",
    "二、探索性資料分析(EDA)：研究主要特徵，選擇性處理其他特徵\n",
    "1.[數值變數]：與y的相關係數矩陣，排除低相關變數\n",
    "2.[類別變數]：類別變數分布，排除過於單一類別變數\n",
    "3.可視化：確定這些變數都與y有關聯\n",
    "\n",
    "三、數據預處理\n",
    "1.缺失值處理\n",
    "2.極端值處理\n",
    "\n",
    "四、特徵工程\n",
    "1.對數轉換：面積相關的特徵，大多為左偏分布，故全部對數化處理，使其趨近常態分佈。\n",
    "2.類別特徵轉順序特徵\n",
    "3.年份特徵計算\n",
    "4.部分數值欄位離散化\n",
    "5.類別變數做One-Hot Encoding\n",
    "6.區分訓練集、驗證集、測試集\n",
    "\n",
    "五、建模、調參：選出最適合該問題的模型，進行建模、調參等操作。\n"
   ]
  },
  {
   "cell_type": "code",
   "execution_count": null,
   "metadata": {},
   "outputs": [],
   "source": [
    "1.數據導入\n",
    "1.1.python包\n",
    "1.2.csv文件\n",
    "\n",
    "2.數據預處理\n",
    "2.1.\n"
   ]
  },
  {
   "cell_type": "code",
   "execution_count": null,
   "metadata": {},
   "outputs": [],
   "source": []
  }
 ],
 "metadata": {
  "kernelspec": {
   "display_name": "Python 3",
   "language": "python",
   "name": "python3"
  },
  "language_info": {
   "codemirror_mode": {
    "name": "ipython",
    "version": 3
   },
   "file_extension": ".py",
   "mimetype": "text/x-python",
   "name": "python",
   "nbconvert_exporter": "python",
   "pygments_lexer": "ipython3",
   "version": "3.7.6"
  },
  "toc": {
   "base_numbering": 1,
   "nav_menu": {},
   "number_sections": true,
   "sideBar": true,
   "skip_h1_title": false,
   "title_cell": "Table of Contents",
   "title_sidebar": "Contents",
   "toc_cell": false,
   "toc_position": {},
   "toc_section_display": true,
   "toc_window_display": false
  },
  "varInspector": {
   "cols": {
    "lenName": 16,
    "lenType": 16,
    "lenVar": 40
   },
   "kernels_config": {
    "python": {
     "delete_cmd_postfix": "",
     "delete_cmd_prefix": "del ",
     "library": "var_list.py",
     "varRefreshCmd": "print(var_dic_list())"
    },
    "r": {
     "delete_cmd_postfix": ") ",
     "delete_cmd_prefix": "rm(",
     "library": "var_list.r",
     "varRefreshCmd": "cat(var_dic_list()) "
    }
   },
   "types_to_exclude": [
    "module",
    "function",
    "builtin_function_or_method",
    "instance",
    "_Feature"
   ],
   "window_display": false
  }
 },
 "nbformat": 4,
 "nbformat_minor": 4
}
