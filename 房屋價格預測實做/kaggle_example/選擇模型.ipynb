{
 "cells": [
  {
   "cell_type": "markdown",
   "metadata": {},
   "source": [
    "## 選擇模型  \n",
    "參考：https://blog.csdn.net/weixin_41779359/article/details/88782343"
   ]
  },
  {
   "cell_type": "code",
   "execution_count": null,
   "metadata": {},
   "outputs": [],
   "source": [
    "# 3種回歸常用model，做選擇\n",
    "from xgboost import XGBRegressor #較新的方法：梯度提升法\n",
    "from sklearn.ensemble import RandomForestRegressor #隨機森林(Random Forest)\n",
    "from sklearn.linear_model import Ridge #嶺回歸(Ridge regression)：避免回歸模型過度配適"
   ]
  },
  {
   "cell_type": "code",
   "execution_count": null,
   "metadata": {},
   "outputs": [],
   "source": [
    "# 3個模型\n",
    "models = [Ridge(),XGBRegressor(),RandomForestRegressor()]\n",
    "models_name = ['RidgeRegression','XGBoost','RandomForest']\n",
    "# 定義訓練函數\n",
    "def train_models(models,models_name,x_train, x_test, y_train, y_test):\n",
    "    result = []\n",
    "    for name,model in zip(models_name,models):\n",
    "        \n",
    "        model.fit(x_train,y_train)\n",
    "        y_pred = model.predict(x_test)  \n",
    "        score = model.score(x_test, y_test)\n",
    "        result.append(round(score,3))\n",
    "    return result\n",
    "\n",
    "# 原始data\n",
    "org_result = train_models(models, models_name, x_train, x_test, y_train, y_test)\n",
    "# y做Log轉換~normal\n",
    "log_result = train_models(models, models_name, x_train_log, x_test_log, y_train_log, y_test_log)\n",
    "# 標準化data\n",
    "std_result = train_models(models, models_name, x_train_std, x_test_std, y_train_std, y_test_std)"
   ]
  },
  {
   "cell_type": "code",
   "execution_count": null,
   "metadata": {},
   "outputs": [],
   "source": [
    "#測試結果\n",
    "result = pd.DataFrame({'Regression model':models_name,\n",
    "                       'original':org_result,\n",
    "                       'y_log_trans':log_result,\n",
    "                       'stdandard':std_result\n",
    "                      })\n",
    "result['HighScore'] = result[['original','y_log_trans','stdandard']].max(axis=1) #best\n",
    "\n",
    "# 2個 梯度提升技術 (Gradient boosting) 方法較優\n",
    "result.sort_values(by = ['HighScore'],ascending=False).reset_index(drop=True) "
   ]
  }
 ],
 "metadata": {
  "kernelspec": {
   "display_name": "Python 3",
   "language": "python",
   "name": "python3"
  },
  "language_info": {
   "codemirror_mode": {
    "name": "ipython",
    "version": 3
   },
   "file_extension": ".py",
   "mimetype": "text/x-python",
   "name": "python",
   "nbconvert_exporter": "python",
   "pygments_lexer": "ipython3",
   "version": "3.7.6"
  },
  "toc": {
   "base_numbering": 1,
   "nav_menu": {},
   "number_sections": true,
   "sideBar": true,
   "skip_h1_title": false,
   "title_cell": "Table of Contents",
   "title_sidebar": "Contents",
   "toc_cell": false,
   "toc_position": {},
   "toc_section_display": true,
   "toc_window_display": false
  },
  "varInspector": {
   "cols": {
    "lenName": 16,
    "lenType": 16,
    "lenVar": 40
   },
   "kernels_config": {
    "python": {
     "delete_cmd_postfix": "",
     "delete_cmd_prefix": "del ",
     "library": "var_list.py",
     "varRefreshCmd": "print(var_dic_list())"
    },
    "r": {
     "delete_cmd_postfix": ") ",
     "delete_cmd_prefix": "rm(",
     "library": "var_list.r",
     "varRefreshCmd": "cat(var_dic_list()) "
    }
   },
   "types_to_exclude": [
    "module",
    "function",
    "builtin_function_or_method",
    "instance",
    "_Feature"
   ],
   "window_display": false
  }
 },
 "nbformat": 4,
 "nbformat_minor": 4
}
